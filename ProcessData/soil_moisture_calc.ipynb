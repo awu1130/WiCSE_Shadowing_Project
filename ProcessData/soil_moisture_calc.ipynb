{
 "cells": [
  {
   "cell_type": "markdown",
   "id": "ebf9e26e",
   "metadata": {},
   "source": [
    "Calculate Soil Moisture\n",
    "\n",
    "Based on Sentinel Hub script: https://custom-scripts.sentinel-hub.com/custom-scripts/sentinel-1/soil_moisture_estimation/"
   ]
  },
  {
   "cell_type": "code",
   "execution_count": null,
   "id": "2cde69d4",
   "metadata": {},
   "outputs": [],
   "source": [
    "import numpy as np\n",
    "import rasterio\n",
    "from rasterio.enums import Resampling"
   ]
  },
  {
   "cell_type": "code",
   "execution_count": null,
   "id": "d7629d32",
   "metadata": {},
   "outputs": [],
   "source": [
    "def read_geotiff(input_file):\n",
    "    # Read the VV and VH bands from the GeoTIFF file\n",
    "    with rasterio.open(input_file) as src:\n",
    "        vv_band = src.read(1)  # VV band\n",
    "        vh_band = src.read(2)  # VH band\n",
    "        profile = src.profile\n",
    "    return vv_band, vh_band, profile\n",
    "\n",
    "def evaluate_pixel(vv_band, samples):\n",
    "    count = len(samples)\n",
    "\n",
    "    max_val = max(samples)\n",
    "    min_val = min(samples)\n",
    "    sum_VV = sum(samples)\n",
    "\n",
    "    # Calculate the sensitivity\n",
    "    sensitivity = max_val - min_val\n",
    "\n",
    "    # Calculate the Soil Moisture (Mv)\n",
    "    Mv = (vv_band - min_val) / sensitivity\n",
    "    print(Mv)\n",
    "\n",
    "    return Mv\n",
    "\n",
    "def apply_colormap(soil_moisture):\n",
    "    vmin = 0\n",
    "    vmax = 0.6\n",
    "    diffv = vmax - vmin\n",
    "    r, g, b = np.zeros_like(soil_moisture), np.zeros_like(soil_moisture), np.zeros_like(soil_moisture)\n",
    "\n",
    "    T1, T2, T3, T4 = 0.1, 0.3, 0.4, 0.5\n",
    "    Thresh_1 = vmin + T1 * diffv\n",
    "    Thresh_2 = vmin + T2 * diffv\n",
    "    Thresh_3 = vmin + T3 * diffv\n",
    "    Thresh_4 = vmin + T4 * diffv\n",
    "\n",
    "    for i in range(soil_moisture.shape[0]):\n",
    "        for j in range(soil_moisture.shape[1]):\n",
    "            v = soil_moisture[i, j]\n",
    "            if v <= 0:\n",
    "                r[i, j], g[i, j], b[i, j] = 1, 1, 1\n",
    "            elif v < Thresh_1:\n",
    "                r[i, j] = 0.5 + (v - vmin) / (Thresh_1 - vmin) / 2\n",
    "            elif v < Thresh_2:\n",
    "                r[i, j], g[i, j] = 1, (v - Thresh_1) / (Thresh_2 - Thresh_1)\n",
    "            elif v < Thresh_3:\n",
    "                r[i, j], g[i, j], b[i, j] = 1 + (Thresh_2 - v) / (Thresh_3 - Thresh_2), 1, (v - Thresh_2) / (Thresh_3 - Thresh_2)\n",
    "            elif v < Thresh_4:\n",
    "                r[i, j], g[i, j], b[i, j] = 0, 1 + (Thresh_3 - v) / (Thresh_4 - Thresh_3), 1\n",
    "            else:\n",
    "                b[i, j] = 1.0 + (Thresh_4 - v) / (vmax - Thresh_4) / 2\n",
    "\n",
    "    return r, g, b\n",
    "\n",
    "def save_geotiff(output_file, soil_moisture, profile, r, g, b):\n",
    "    # Stack RGB channels to create a 3-band image\n",
    "    output_data = np.stack((r, g, b), axis=-1)\n",
    "    profile.update(count=3, dtype=rasterio.float32)\n",
    "    \n",
    "    with rasterio.open(output_file, 'w', **profile) as dst:\n",
    "        for i in range(3):\n",
    "            dst.write(output_data[:, :, i], i + 1)\n",
    "\n",
    "def get_soil_moisture(input_file, output_file):\n",
    "    vv_band, vh_band, profile = read_geotiff(input_file)\n",
    "\n",
    "    # Process the VV band to calculate Soil Moisture (Mv)\n",
    "    samples = vv_band.flatten()\n",
    "    soil_moisture = evaluate_pixel(vv_band, samples)\n",
    "\n",
    "    # Apply colormap to the soil moisture\n",
    "    r, g, b = apply_colormap(soil_moisture)\n",
    "\n",
    "    save_geotiff(output_file, soil_moisture, profile, r, g, b)"
   ]
  },
  {
   "cell_type": "code",
   "execution_count": null,
   "id": "2ac3f615",
   "metadata": {},
   "outputs": [],
   "source": [
    "input_file = \"../data/S1A_IW_GRDH_1SDV_20250401_Clip.tif\"\n",
    "output_file = \"../data/S1A_IW_GRDH_1SDV_20250401_soil_moisture.tif\"\n",
    "get_soil_moisture(input_file, output_file)"
   ]
  }
 ],
 "metadata": {
  "kernelspec": {
   "display_name": "planetary",
   "language": "python",
   "name": "python3"
  },
  "language_info": {
   "codemirror_mode": {
    "name": "ipython",
    "version": 3
   },
   "file_extension": ".py",
   "mimetype": "text/x-python",
   "name": "python",
   "nbconvert_exporter": "python",
   "pygments_lexer": "ipython3",
   "version": "3.13.2"
  }
 },
 "nbformat": 4,
 "nbformat_minor": 5
}
